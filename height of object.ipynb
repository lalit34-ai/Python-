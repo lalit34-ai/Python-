{
 "cells": [
  {
   "cell_type": "code",
   "execution_count": 2,
   "metadata": {},
   "outputs": [],
   "source": [
    "import numpy as np\n",
    "import pandas as pd\n",
    "import tensorflow as tf"
   ]
  },
  {
   "cell_type": "code",
   "execution_count": 1,
   "metadata": {},
   "outputs": [
    {
     "name": "stdout",
     "output_type": "stream",
     "text": [
      "Collecting pyspark\n",
      "  Downloading pyspark-3.3.0.tar.gz (281.3 MB)\n",
      "Collecting py4j==0.10.9.5\n",
      "  Downloading py4j-0.10.9.5-py2.py3-none-any.whl (199 kB)\n",
      "Building wheels for collected packages: pyspark\n",
      "  Building wheel for pyspark (setup.py): started\n",
      "  Building wheel for pyspark (setup.py): still running...\n",
      "  Building wheel for pyspark (setup.py): still running...\n",
      "  Building wheel for pyspark (setup.py): finished with status 'done'\n",
      "  Created wheel for pyspark: filename=pyspark-3.3.0-py2.py3-none-any.whl size=281764026 sha256=40cba8f4efc5ae4e696c014da306698a02b06ea801e4ed898544861cd88ca82b\n",
      "  Stored in directory: c:\\users\\lalit\\appdata\\local\\pip\\cache\\wheels\\7a\\8e\\1b\\f73a52650d2e5f337708d9f6a1750d451a7349a867f928b885\n",
      "Successfully built pyspark\n",
      "Installing collected packages: py4j, pyspark\n",
      "Successfully installed py4j-0.10.9.5 pyspark-3.3.0\n",
      "Note: you may need to restart the kernel to use updated packages.\n"
     ]
    }
   ],
   "source": [
    "pip install pyspark"
   ]
  },
  {
   "cell_type": "code",
   "execution_count": null,
   "metadata": {},
   "outputs": [],
   "source": [
    "pip uninstall opencv-python"
   ]
  },
  {
   "cell_type": "code",
   "execution_count": null,
   "metadata": {},
   "outputs": [],
   "source": [
    "pip uninstall opencv-contrib-python"
   ]
  },
  {
   "cell_type": "code",
   "execution_count": null,
   "metadata": {},
   "outputs": [],
   "source": [
    "pip uninstall opencv-contrib-python-headless"
   ]
  },
  {
   "cell_type": "code",
   "execution_count": 4,
   "metadata": {},
   "outputs": [
    {
     "name": "stdout",
     "output_type": "stream",
     "text": [
      "Requirement already satisfied: opencv-contrib-python in c:\\users\\lalit\\anaconda3\\lib\\site-packages (4.6.0.66)\n",
      "Requirement already satisfied: numpy>=1.14.5; python_version >= \"3.7\" in c:\\users\\lalit\\anaconda3\\lib\\site-packages (from opencv-contrib-python) (1.21.5)\n",
      "Note: you may need to restart the kernel to use updated packages.\n"
     ]
    }
   ],
   "source": [
    "pip install opencv-contrib-python==4.5.5.62"
   ]
  },
  {
   "cell_type": "code",
   "execution_count": 48,
   "metadata": {},
   "outputs": [],
   "source": [
    "image=cv2.imread(\"C:\\\\Users\\\\lalit\\\\Downloads\\\\rice.jpg\")\n",
    "gray = cv2.cvtColor(image, cv2.COLOR_BGR2GRAY)\n",
    "thresh = cv2.threshold(gray, 0, 255, cv2.THRESH_BINARY_INV + cv2.THRESH_OTSU)[1]\n",
    "ROI_number = 0\n",
    "cnts = cv2.findContours(thresh, cv2.RETR_EXTERNAL, cv2.CHAIN_APPROX_SIMPLE)\n",
    "cnts = cnts[0] if len(cnts) == 2 else cnts[1]\n",
    "for c in cnts:\n",
    "    x,y,w,h = cv2.boundingRect(c)\n",
    "    cv2.rectangle(image, (x, y), (x + w, y + h), (0,0,255), 2)\n",
    "\n",
    "cv2.imshow('image', image)\n",
    "cv2.imshow('Thresh',thresh)\n",
    "cv2.waitKey()\n",
    "#detector=HomogeneousBgDetector()\n",
    "#contour=detector.detect_objects(image)\n",
    "#for cnt in contour:\n",
    " #   (x,y),(w,h),angle=cv2.minAreaRect(cnt)\n",
    "  #  cv2.putText(img,\"width{}\".format(round(w,1)),(int(x),int(y-15)),cv2.FONT_HERSHEY_PLAIN,1,(100,0,150),2)\n",
    "   # cv2.putText(img,\"height{}\".format(round(h,1)),(int(x),int(y+15)),cv2.FONT_HERSHEY_PLAIN,1,(255,0,100),2)\n",
    "    #print(x,y)# centre point of object\n",
    "    #print(w,h)# \n",
    "    #print(angle)\n",
    "#cv2.imshow(\"Image\",image)\n",
    "#cv2.waitKey(0)"
   ]
  },
  {
   "cell_type": "code",
   "execution_count": null,
   "metadata": {},
   "outputs": [],
   "source": [
    "image = cv2.imread('1.png')\n",
    "original = image.copy()\n",
    "gray = cv2.cvtColor(image, cv2.COLOR_BGR2GRAY)\n",
    "thresh = cv2.threshold(gray, 0, 255, cv2.THRESH_BINARY_INV + cv2.THRESH_OTSU)[1]\n",
    "\n",
    "# Find contours, obtain bounding box, extract and save ROI\n",
    "ROI_number = 0\n",
    "cnts = cv2.findContours(thresh, cv2.RETR_EXTERNAL, cv2.CHAIN_APPROX_SIMPLE)\n",
    "cnts = cnts[0] if len(cnts) == 2 else cnts[1]\n",
    "for c in cnts:\n",
    "    x,y,w,h = cv2.boundingRect(c)\n",
    "    cv2.rectangle(image, (x, y), (x + w, y + h), (36,255,12), 2)\n",
    "    ROI = original[y:y+h, x:x+w]\n",
    "    cv2.imwrite('ROI_{}.png'.format(ROI_number), ROI)\n",
    "    ROI_number += 1\n",
    "\n",
    "cv2.imshow('image', image)\n",
    "cv2.waitKey()"
   ]
  },
  {
   "cell_type": "code",
   "execution_count": null,
   "metadata": {},
   "outputs": [],
   "source": [
    "def drawBoundingBoxes(imageData, imageOutputPath, inferenceResults, color):\n",
    "    for res in inferenceResults:\n",
    "        left = int(res['left'])\n",
    "        top = int(res['top'])\n",
    "        right = int(res['left']) + int(res['width'])\n",
    "        bottom = int(res['top']) + int(res['height'])\n",
    "        label = res['label']\n",
    "        imgHeight, imgWidth, _ = imageData.shape\n",
    "        thick = int((imgHeight + imgWidth) // 900)\n",
    "        print left, top, right, bottom\n",
    "        cv2.rectangle(imageData,(left, top), (right, bottom), color, thick)\n",
    "        cv2.putText(imageData, label, (left, top - 12), 0, 1e-3 * imgHeight, color, thick//3)\n",
    "    cv2.imwrite(imageOutputPath, imageData)"
   ]
  },
  {
   "cell_type": "code",
   "execution_count": 42,
   "metadata": {},
   "outputs": [
    {
     "name": "stdout",
     "output_type": "stream",
     "text": [
      "203.14862060546875 96.63726806640625\n",
      "176.5633544921875 179.8757781982422\n",
      "72.47443389892578\n",
      "[[ 90  39]\n",
      " [262 -14]\n",
      " [315 153]\n",
      " [143 207]]\n"
     ]
    },
    {
     "data": {
      "text/plain": [
       "-1"
      ]
     },
     "execution_count": 42,
     "metadata": {},
     "output_type": "execute_result"
    }
   ],
   "source": [
    "img=cv2.imread(\"C:\\\\Users\\\\lalit\\\\Downloads\\\\rice.jpg\")\n",
    "detector=HomogeneousBgDetector()\n",
    "contour=detector.detect_objects(img)\n",
    "for cnt in contour:\n",
    " #   cv2.polylines(img,[cnt],True,(255,0,0),2)\n",
    "    #(x,y),(w,h),angle=cv2.minAreaRect(cnt)\n",
    "    rect=cv2.minAreaRect(cnt)\n",
    "    (x,y),(w,h),angle=rect\n",
    "    cv2.circle(img,(int(x),int(y)),5,(0,0,255),-1)\n",
    "    box=cv2.boxPoints(rect)\n",
    "   # cv2.polylines(img,[box],True,(255,0,0),2)\n",
    "    cv2.putText(img,\"width{}\".format(round(w,1)),(int(x),int(y-15)),cv2.FONT_HERSHEY_PLAIN,1,(100,0,150),2)\n",
    "    cv2.putText(img,\"height{}\".format(round(h,1)),(int(x),int(y+15)),cv2.FONT_HERSHEY_PLAIN,1,(255,0,100),2)\n",
    "    print(x,y)# centre point of object\n",
    "    print(w,h)# \n",
    "    print(angle)1\n",
    "    box=np.int0(box)\n",
    "    print(box)\n",
    "cv2.imshow(\"Image\",img)\n",
    "cv2.waitKey(0)"
   ]
  },
  {
   "cell_type": "code",
   "execution_count": null,
   "metadata": {},
   "outputs": [],
   "source": [
    "dimA = dA / pixelsPerMetric\n",
    "dimB = dB / pixelsPerMetric\n",
    "\n",
    "# draw the object sizes on the image\n",
    "cv2.putText(orig, \"{:.1f}in\".format(dimA),\n",
    "(int(tltrX - 15), int(tltrY - 10)), cv2.FONT_HERSHEY_SIMPLEX,\n",
    "0.65, (255, 255, 255), 2)\n",
    "cv2.putText(orig, \"{:.1f}in\".format(dimB),\n",
    "(int(trbrX + 10), int(trbrY)), cv2.FONT_HERSHEY_SIMPLEX,\n",
    "0.65, (255, 255, 255), 2)\n",
    "\n",
    "# show the output image\n",
    "cv2.imshow(\"Image\", orig)\n",
    "cv2.waitKey(0)"
   ]
  },
  {
   "cell_type": "code",
   "execution_count": 7,
   "metadata": {},
   "outputs": [],
   "source": [
    "from object_detector import *"
   ]
  },
  {
   "cell_type": "code",
   "execution_count": null,
   "metadata": {},
   "outputs": [],
   "source": [
    "cv2.imshow(\"Image\",img)\n",
    "cv2.waitKey(0)"
   ]
  }
 ],
 "metadata": {
  "kernelspec": {
   "display_name": "Python 3",
   "language": "python",
   "name": "python3"
  },
  "language_info": {
   "codemirror_mode": {
    "name": "ipython",
    "version": 3
   },
   "file_extension": ".py",
   "mimetype": "text/x-python",
   "name": "python",
   "nbconvert_exporter": "python",
   "pygments_lexer": "ipython3",
   "version": "3.7.6"
  }
 },
 "nbformat": 4,
 "nbformat_minor": 4
}
